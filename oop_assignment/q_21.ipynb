{
 "cells": [
  {
   "cell_type": "markdown",
   "id": "dcaff9e9",
   "metadata": {},
   "source": [
    "#### 1. Using self\n",
    "#### Assignment:\n",
    "#### Create a class Student with attributes name and marks. Use the self keyword to initialize these values #### via a constructor. Add a method display() that prints student details.\n",
    "\n"
   ]
  },
  {
   "cell_type": "code",
   "execution_count": 2,
   "id": "11dc208b",
   "metadata": {},
   "outputs": [
    {
     "name": "stdout",
     "output_type": "stream",
     "text": [
      "The student name is Talha \n",
      " and obtained marks is 98\n"
     ]
    }
   ],
   "source": [
    "class Student :\n",
    "    def __init__(self,name,marks):\n",
    "        self.name = name \n",
    "        self.marks = marks\n",
    "    \n",
    "    def display(self):\n",
    "        print(f\"The student name is {self.name} \\n and obtained marks is {self.marks}\")\n",
    "user_name = input(\"Enter the Name \")\n",
    "user_marks = input(\"Enter the marks \")\n",
    "\n",
    "std = Student(user_name , user_marks)\n",
    "std.display()        "
   ]
  },
  {
   "cell_type": "markdown",
   "id": "8d5070e3",
   "metadata": {},
   "source": [
    "2. Using cls\n",
    "Assignment:\n",
    "Create a class Counter that keeps track of how many objects have been created. Use a class variable and a class method with cls to manage and display the count.\n",
    "\n"
   ]
  },
  {
   "cell_type": "code",
   "execution_count": 16,
   "id": "091fc1d6",
   "metadata": {},
   "outputs": [
    {
     "name": "stdout",
     "output_type": "stream",
     "text": [
      "3\n"
     ]
    }
   ],
   "source": [
    "class Counter :\n",
    "    count = 0\n",
    "    def __init__(self):\n",
    "        Counter.count +=1\n",
    "    @ classmethod\n",
    "    def display(cls):\n",
    "        print(cls.count)\n",
    "        \n",
    "s=Counter()\n",
    "u=Counter()\n",
    "b=Counter()\n",
    "\n",
    "b.display()"
   ]
  },
  {
   "cell_type": "markdown",
   "id": "dab6f868",
   "metadata": {},
   "source": [
    "#### 3. Public Variables and Methods\n",
    "#### Assignment:\n",
    "Create a class Car with a public variable brand and a public method start(). Instantiate the class and access both from outside the class.\n",
    "\n"
   ]
  },
  {
   "cell_type": "code",
   "execution_count": 19,
   "id": "f08bfa22",
   "metadata": {},
   "outputs": [
    {
     "name": "stdout",
     "output_type": "stream",
     "text": [
      "Toyota Start new model \n",
      "Toyota\n"
     ]
    }
   ],
   "source": [
    "class Car :\n",
    "    def __init__(self,brand):\n",
    "        self.brand = brand \n",
    "    def start(self):\n",
    "        print(f\"{self.brand} Start new model \")\n",
    "        \n",
    "c= Car(\"Toyota\")\n",
    "c.start()\n",
    "print(c.brand)   "
   ]
  },
  {
   "cell_type": "markdown",
   "id": "6215d54f",
   "metadata": {},
   "source": [
    "### 4. Class Variables and Class Methods\n",
    "#### Assignment:\n",
    "Create a class Bank with a class variable bank_name. Add a class method change_bank_name(cls, name) that allows changing the bank name. Show that it affects all instances.\n",
    "\n"
   ]
  },
  {
   "cell_type": "code",
   "execution_count": 29,
   "id": "65484267",
   "metadata": {},
   "outputs": [
    {
     "name": "stdout",
     "output_type": "stream",
     "text": [
      "Customer: Ali, Bank: Default Bank\n",
      "Customer: Ali, Bank: Habib\n"
     ]
    }
   ],
   "source": [
    "class Bank :\n",
    "    bank_name = \"Default Bank\"\n",
    "    def __init__(self,customer):\n",
    "        self.customer = customer\n",
    "    @classmethod\n",
    "    def change_bank(cls,name):\n",
    "        cls.bank_name = name\n",
    "    def display (self):\n",
    "        print(f\"Customer: {self.customer}, Bank: {Bank.bank_name}\")\n",
    "        \n",
    "s = Bank(\"Ali\")\n",
    "s.display()\n",
    "b = Bank(\"Ali\")\n",
    "b.change_bank(\"Habib\")\n",
    "b.display()\n",
    "        "
   ]
  },
  {
   "cell_type": "markdown",
   "id": "40ac4218",
   "metadata": {},
   "source": [
    "#### 5. Static Variables and Static Methods\n",
    "#### Assignment:\n",
    "Create a class MathUtils with a static method add(a, b) that returns the sum. No class or instance variables should be used.\n",
    "\n"
   ]
  },
  {
   "cell_type": "code",
   "execution_count": 26,
   "id": "62f066ad",
   "metadata": {},
   "outputs": [
    {
     "data": {
      "text/plain": [
       "10"
      ]
     },
     "execution_count": 26,
     "metadata": {},
     "output_type": "execute_result"
    }
   ],
   "source": [
    "class MathUtils :\n",
    "    @staticmethod\n",
    "    def add(a,b):\n",
    "        return a + b\n",
    "    \n",
    "M = MathUtils()\n",
    "M.add(5,5)"
   ]
  },
  {
   "cell_type": "markdown",
   "id": "edc8dfdf",
   "metadata": {},
   "source": [
    "#### 6. Constructors and Destructors\n",
    "#### Assignment:\n",
    "Create a class Logger that prints a message when an object is created (constructor) and another message when it is destroyed (destructor).\n",
    "\n"
   ]
  },
  {
   "cell_type": "code",
   "execution_count": 34,
   "id": "57604080",
   "metadata": {},
   "outputs": [
    {
     "name": "stdout",
     "output_type": "stream",
     "text": [
      "The massage is constructor \n",
      "The massage is destruct \n"
     ]
    }
   ],
   "source": [
    "class Logger :\n",
    "    def __init__(self):\n",
    "        print(\"The massage is constructor \")\n",
    "        \n",
    "    def __del__(self):\n",
    "        print(\"The massage is destruct \")\n",
    "        \n",
    "L=Logger()\n"
   ]
  },
  {
   "cell_type": "markdown",
   "id": "26553aa1",
   "metadata": {},
   "source": [
    "#### 7. Access Modifiers: Public, Private, and Protected\n",
    "#### Assignment:\n",
    "#### Create a class Employee with:\n",
    "\n",
    "a public variable name,\n",
    "\n",
    "a protected variable _salary, and\n",
    "\n",
    "a private variable __ssn.\n",
    "\n",
    "Try accessing all three variables from an object of the class and document what happens.\n",
    "\n"
   ]
  },
  {
   "cell_type": "code",
   "execution_count": 39,
   "id": "bc90b137",
   "metadata": {},
   "outputs": [
    {
     "name": "stdout",
     "output_type": "stream",
     "text": [
      "Talha\n",
      "2000\n"
     ]
    }
   ],
   "source": [
    "class Employee :\n",
    "    def __init__(self,name ,salary,ssn): # SSN stands for Social Security Number.\n",
    "\n",
    "        self.name = name \n",
    "        self._salary = salary\n",
    "        self.__ssn = ssn\n",
    "        \n",
    "E = Employee(\"Talha\",2000,56)\n",
    "print(E.name)\n",
    "print(E._salary)\n",
    "#E.__ssn # AttributeError: 'Employee' object has no attribute '__ssn'"
   ]
  },
  {
   "cell_type": "markdown",
   "id": "5679e28d",
   "metadata": {},
   "source": [
    "### 8. The super() Function\n",
    "#### Assignment:\n",
    "Create a class Person with a constructor that sets the name. Inherit a class Teacher from it, add a subject field, and use super() to call the base class constructor.\n",
    "\n"
   ]
  },
  {
   "cell_type": "code",
   "execution_count": 40,
   "id": "a92f4dd9",
   "metadata": {},
   "outputs": [
    {
     "name": "stdout",
     "output_type": "stream",
     "text": [
      "Name : Talha\n",
      " Subject :Math\n"
     ]
    }
   ],
   "source": [
    "class Person:\n",
    "    def __init__(self, name:str ):\n",
    "        self.name =name\n",
    "\n",
    "class Teacher(Person):\n",
    "    def __init__(self, name,subject):\n",
    "        self.subject = subject\n",
    "        super().__init__(name)\n",
    "    def display(self):\n",
    "        print(f\"Name : {self.name}\\n Subject :{self.subject}\")\n",
    "        \n",
    "P = Person(\"Talha\")\n",
    "T= Teacher(\"Talha\",\"Math\")\n",
    "T.display()"
   ]
  },
  {
   "cell_type": "markdown",
   "id": "111541e9",
   "metadata": {},
   "source": [
    "#### 9. Abstract Classes and Methods\n",
    "#### Assignment:\n",
    "Use the abc module to create an abstract class Shape with an abstract method area(). Inherit a class Rectangle that implements area().\n",
    "\n"
   ]
  },
  {
   "cell_type": "code",
   "execution_count": 46,
   "id": "b87af826",
   "metadata": {},
   "outputs": [
    {
     "name": "stdout",
     "output_type": "stream",
     "text": [
      "Area of reactangle : 25\n"
     ]
    }
   ],
   "source": [
    "from abc import ABC , abstractmethod\n",
    "\n",
    "class Shape(ABC):\n",
    "    @abstractmethod\n",
    "    def area(self):\n",
    "        pass \n",
    "    \n",
    "    \n",
    "# create a suv class \n",
    "\n",
    "class Rectangule (Shape):\n",
    "    def __init__(self,length,width):\n",
    "        self.length = length\n",
    "        self.width = width\n",
    "        \n",
    "    def area(self):\n",
    "        return self.length * self.width\n",
    "R = Rectangule(5,5)\n",
    "print(f\"Area of reactangle : {R.area()}\")\n",
    "\n",
    "## ❗ You cannot create an object of Shape directly. It’s only meant to be subclassed.\n",
    "\n"
   ]
  },
  {
   "cell_type": "markdown",
   "id": "6472bebb",
   "metadata": {},
   "source": [
    "### 10. Instance Methods\n",
    "### Assignment:\n",
    "Create a class Dog with instance variables name and breed. Add an instance method bark() that prints a message including the dog's name.\n",
    "\n"
   ]
  },
  {
   "cell_type": "code",
   "execution_count": 47,
   "id": "28a7ff55",
   "metadata": {},
   "outputs": [
    {
     "name": "stdout",
     "output_type": "stream",
     "text": [
      "Buddy says woofs ! I am a Golden Retriever\n"
     ]
    }
   ],
   "source": [
    "class Dog:\n",
    "    def __init__(self, name,breed):\n",
    "        self.name = name \n",
    "        self.breed = breed\n",
    "        \n",
    "    def bark(self):\n",
    "        print(f\"{self.name} says woofs ! I am a {self.breed}\")\n",
    "        \n",
    "d = Dog(\"Buddy\", \"Golden Retriever\")\n",
    "d.bark()\n"
   ]
  },
  {
   "cell_type": "markdown",
   "id": "101d924b",
   "metadata": {},
   "source": [
    "#### 11. Class Methods\n",
    "#### Assignment:\n",
    "Create a class Book with a class variable total_books. Add a class method increment_book_count() to increase the count when a new book is added.\n",
    "\n"
   ]
  },
  {
   "cell_type": "code",
   "execution_count": 1,
   "id": "7f0ecccb",
   "metadata": {},
   "outputs": [
    {
     "name": "stdout",
     "output_type": "stream",
     "text": [
      "Total books added: 3\n"
     ]
    }
   ],
   "source": [
    "class Book :\n",
    "    total_books = 0 \n",
    "    def __init__(self,title):\n",
    "        self.title = title\n",
    "        Book.increment_book_count ()\n",
    "    \n",
    "    @ classmethod\n",
    "    def increment_book_count(cls):\n",
    "        cls.total_books +=1 \n",
    "        \n",
    "        \n",
    "book1 = Book(\"Python Basics\")\n",
    "book2 = Book(\"Data Science with Python\")\n",
    "book3 = Book(\"Machine Learning\")\n",
    "\n",
    "print(\"Total books added:\", Book.total_books)\n",
    "\n",
    "        \n"
   ]
  },
  {
   "cell_type": "markdown",
   "id": "78bf0e36",
   "metadata": {},
   "source": [
    "#### 12. Static Methods\n",
    "#### Assignment:\n",
    "Create a class TemperatureConverter with a static method celsius_to_fahrenheit(c) that returns the Fahrenheit value.\n",
    "\n"
   ]
  },
  {
   "cell_type": "code",
   "execution_count": 2,
   "id": "cef18778",
   "metadata": {},
   "outputs": [
    {
     "data": {
      "text/plain": [
       "144.5"
      ]
     },
     "execution_count": 2,
     "metadata": {},
     "output_type": "execute_result"
    }
   ],
   "source": [
    "class TemperatureConverter :\n",
    "    @ staticmethod\n",
    "    def celcius_to_fahrenheit(c):\n",
    "        return c * (9/2) + 32\n",
    "    \n",
    "Fahrenheit = TemperatureConverter()\n",
    "Fahrenheit.celcius_to_fahrenheit(25)"
   ]
  },
  {
   "cell_type": "markdown",
   "id": "a3fd5b2b",
   "metadata": {},
   "source": [
    "#### 13. Composition\n",
    "#### Assignment:\n",
    "Create a class Engine and a class Car. Use composition by passing an Engine object to the Car class during initialization. Access a method of the Engine class via the Car class.\n",
    "\n"
   ]
  },
  {
   "cell_type": "code",
   "execution_count": 1,
   "id": "732c233d",
   "metadata": {},
   "outputs": [
    {
     "name": "stdout",
     "output_type": "stream",
     "text": [
      "Engine Started\n"
     ]
    }
   ],
   "source": [
    "class Engine :\n",
    "    def start (self):\n",
    "        return \"Engine Started\"\n",
    "\n",
    "class Car :\n",
    "    def __init__(self,engine):\n",
    "        self.engine = engine\n",
    "    \n",
    "    def display (self):\n",
    "       return self.engine.start()\n",
    "        \n",
    "E = Engine()\n",
    "C = Car(E)\n",
    "print(C.display())\n"
   ]
  },
  {
   "cell_type": "markdown",
   "id": "31e0c0d7",
   "metadata": {},
   "source": [
    "#### 14. Aggregation\n",
    "#### Assignment:\n",
    "Create a class Department and a class Employee. Use aggregation by having a Department object store a reference to an Employee object that exists independently of it.\n",
    "\n"
   ]
  },
  {
   "cell_type": "code",
   "execution_count": 2,
   "id": "aa80ed16",
   "metadata": {},
   "outputs": [
    {
     "name": "stdout",
     "output_type": "stream",
     "text": [
      "Department :IT Employee : Talha\n"
     ]
    }
   ],
   "source": [
    "class Employee :\n",
    "    def __init__(self, name):\n",
    "        self.name = name\n",
    "\n",
    "    def get_details(self):\n",
    "        return f\"Employee : {self.name}\"\n",
    "class Department :\n",
    "    def __init__(self, dep_name, employee):\n",
    "        self.dep_naame = dep_name\n",
    "        self.emp = employee\n",
    "    \n",
    "    def show_depart_info(self):\n",
    "        print(f\"Department :{self.dep_naame} {self.emp.get_details()}\")\n",
    "        \n",
    "E = Employee(\"Talha\")\n",
    "\n",
    "D = Department(\"IT\",E)\n",
    "\n",
    "D.show_depart_info()"
   ]
  },
  {
   "cell_type": "markdown",
   "id": "2262a047",
   "metadata": {},
   "source": [
    "#### 15. Method Resolution Order (MRO) and Diamond Inheritance\n",
    "#### Assignment:\n",
    "Create four classes:\n",
    "\n",
    "A with a method show(),\n",
    "\n",
    "B and C that inherit from A and override show(),\n",
    "\n",
    "D that inherits from both B and C.\n",
    "\n",
    "Create an object of D and call show() to observe MRO.\n",
    "\n"
   ]
  },
  {
   "cell_type": "code",
   "execution_count": 5,
   "id": "a44c2e74",
   "metadata": {},
   "outputs": [
    {
     "name": "stdout",
     "output_type": "stream",
     "text": [
      "C's show method\n",
      "(<class '__main__.D'>, <class '__main__.B'>, <class '__main__.C'>, <class '__main__.A'>, <class 'object'>)\n"
     ]
    }
   ],
   "source": [
    "class A:\n",
    "    def show(self):\n",
    "        print(\"A's show method\")\n",
    "        \n",
    "class B(A):\n",
    "    # def show(self):\n",
    "    #     print(\"B's show method\")\n",
    "    pass\n",
    "\n",
    "class C(A):\n",
    "    def show(self):\n",
    "        print(\"C's show method\")\n",
    "    \n",
    "        \n",
    "class D(B,C):\n",
    "    # def show(self):\n",
    "    #     print(\"DDD's show method\")\n",
    "    pass\n",
    "        \n",
    "d = D()\n",
    "d.show()\n",
    "\n",
    "\n",
    "print(D.__mro__)\n"
   ]
  },
  {
   "cell_type": "markdown",
   "id": "2bfd31cf",
   "metadata": {},
   "source": [
    "#### 16. Function Decorators\n",
    "#### Assignment:\n",
    "Write a decorator function log_function_call that prints \"Function is being called\" before a function executes. Apply it to a function say_hello().\n",
    "\n"
   ]
  },
  {
   "cell_type": "code",
   "execution_count": 6,
   "id": "2070f5c9",
   "metadata": {},
   "outputs": [
    {
     "name": "stdout",
     "output_type": "stream",
     "text": [
      "Function is being Called \n",
      "Hello\n"
     ]
    }
   ],
   "source": [
    "class LogFunctionCall : \n",
    "    def __init__(self, func):\n",
    "        self.func = func\n",
    "        \n",
    "    def __call__(self,):\n",
    "        print(\"Function is being Called \")\n",
    "        \n",
    "        return self.func()\n",
    "\n",
    "@LogFunctionCall\n",
    "def say_hello():\n",
    "    print(\"Hello\")\n",
    "    \n",
    "say_hello()"
   ]
  },
  {
   "cell_type": "markdown",
   "id": "f7f6a64b",
   "metadata": {},
   "source": [
    "#### 17. Class Decorators\n",
    "#### Assignment:\n",
    "Create a class decorator add_greeting that modifies a class to add a greet() method returning \"Hello from Decorator!\". Apply it to a class Person.\n",
    "\n"
   ]
  },
  {
   "cell_type": "code",
   "execution_count": 7,
   "id": "f9775a1a",
   "metadata": {},
   "outputs": [
    {
     "name": "stdout",
     "output_type": "stream",
     "text": [
      "Ali\n",
      "Hello from Decorator!\n"
     ]
    }
   ],
   "source": [
    "# Class decorator\n",
    "def add_greeting(cls):\n",
    "    # Define a new method and attach it to the class\n",
    "    def greet(self):\n",
    "        return \"Hello from Decorator!\"\n",
    "    \n",
    "    cls.greet = greet  # Add the method to the class\n",
    "    return cls\n",
    "\n",
    "# Apply the decorator to the Person class\n",
    "@add_greeting\n",
    "class Person:\n",
    "    def __init__(self, name):\n",
    "        self.name = name\n",
    "\n",
    "# Example usage\n",
    "p = Person(\"Ali\")\n",
    "print(p.name)\n",
    "print(p.greet())  # This method is added by the decorator\n"
   ]
  },
  {
   "cell_type": "markdown",
   "id": "8af7cc84",
   "metadata": {},
   "source": [
    "#### 18. Property Decorators: @property, @setter, and @deleter\n",
    "#### Assignment:\n",
    "Create a class Product with a private attribute _price. Use @property to get the price, @price.setter to update it, and @price.deleter to delete it.\n",
    "\n"
   ]
  },
  {
   "cell_type": "code",
   "execution_count": null,
   "id": "9467a5e8",
   "metadata": {},
   "outputs": [
    {
     "name": "stdout",
     "output_type": "stream",
     "text": [
      "Getting the price...\n",
      "100\n",
      "Setting the price...\n",
      "Getting the price...\n",
      "150\n",
      "Deleting the price...\n"
     ]
    }
   ],
   "source": [
    "class Product:\n",
    "    def __init__(self, price):\n",
    "        self.__price = price  # now truly private with name mangling\n",
    "\n",
    "    @property\n",
    "    def price(self):\n",
    "        print(\"Getting the price...\")\n",
    "        return self.__price\n",
    "\n",
    "    @price.setter\n",
    "    def price(self, value):\n",
    "        if value >= 0:\n",
    "            print(\"Setting the price...\")\n",
    "            self.__price = value\n",
    "        else:\n",
    "            raise ValueError(\"Price cannot be negative.\")\n",
    "\n",
    "    @price.deleter\n",
    "    def price(self):\n",
    "        print(\"Deleting the price...\")\n",
    "        del self.__price\n",
    "        \n",
    "p = Product(100)\n",
    "print(p.price)      \n",
    "p.price = 150        \n",
    "print(p.price)\n",
    "del p.price          "
   ]
  },
  {
   "cell_type": "markdown",
   "id": "b52c5df0",
   "metadata": {},
   "source": [
    "#### 19. callable() and __call__()\n",
    "#### Assignment:\n",
    "Create a class Multiplier with an __init__() to set a factor. Define a __call__() method that multiplies an input by the factor. Test it with callable() and by calling the object like a function"
   ]
  },
  {
   "cell_type": "code",
   "execution_count": 11,
   "id": "afc16410",
   "metadata": {},
   "outputs": [
    {
     "name": "stdout",
     "output_type": "stream",
     "text": [
      "True\n",
      "50\n"
     ]
    }
   ],
   "source": [
    "class Multiplier:\n",
    "    def __init__(self, factor):\n",
    "        self.factor = factor\n",
    "\n",
    "    def __call__(self, number):\n",
    "        return number * self.factor\n",
    "\n",
    "# Create an instance\n",
    "m = Multiplier(5)\n",
    "\n",
    "# Test with callable()\n",
    "print(callable(m))  # Output: True\n",
    "\n",
    "# Call the object like a function\n",
    "result = m(10)\n",
    "print(result)  # Output: 50\n"
   ]
  },
  {
   "cell_type": "markdown",
   "id": "16a1d1a1",
   "metadata": {},
   "source": [
    "#### 20. Creating a Custom Exception\n",
    "#### Assignment:\n",
    "Create a custom exception InvalidAgeError. Write a function check_age(age) that raises this exception if age < 18. Handle it with try...except.\n",
    "\n"
   ]
  },
  {
   "cell_type": "code",
   "execution_count": 1,
   "id": "9866d93b",
   "metadata": {},
   "outputs": [
    {
     "name": "stdout",
     "output_type": "stream",
     "text": [
      "Access granted.\n"
     ]
    }
   ],
   "source": [
    "# Step 1: Define custom exception\n",
    "class InvalidAgeError(Exception):\n",
    "    def __init__(self, message=\"Age must be at least 18\"):\n",
    "        super().__init__(message)\n",
    "\n",
    "# Step 2: Function that raises the custom exception\n",
    "def check_age(age):\n",
    "    if age < 18:\n",
    "        raise InvalidAgeError()\n",
    "    else:\n",
    "        print(\"Access granted.\")\n",
    "\n",
    "# Step 3: Using try...except to handle it\n",
    "try:\n",
    "    user_age = int(input(\"Enter your age: \"))\n",
    "    check_age(user_age)\n",
    "except InvalidAgeError as e:\n",
    "    print(\"Custom Exception Caught:\", e)\n",
    "except ValueError:\n",
    "    print(\"Please enter a valid number.\")\n"
   ]
  },
  {
   "cell_type": "markdown",
   "id": "724f638a",
   "metadata": {},
   "source": [
    "#### 21. Make a Custom Class Iterable\n",
    "#### Assignment:\n",
    "Create a class Countdown that takes a start number. Implement __iter__() and __next__() to make the object iterable in a for-loop, counting down to 0.\n",
    "\n"
   ]
  },
  {
   "cell_type": "code",
   "execution_count": 2,
   "id": "ceceaaab",
   "metadata": {},
   "outputs": [
    {
     "name": "stdout",
     "output_type": "stream",
     "text": [
      "5\n",
      "4\n",
      "3\n",
      "2\n",
      "1\n",
      "0\n"
     ]
    }
   ],
   "source": [
    "class Countdown:\n",
    "    def __init__(self, start):\n",
    "        self.current = start\n",
    "\n",
    "    def __iter__(self):\n",
    "        return self  # the object itself is the iterator\n",
    "\n",
    "    def __next__(self):\n",
    "        if self.current < 0:\n",
    "            raise StopIteration\n",
    "        else:\n",
    "            value = self.current\n",
    "            self.current -= 1\n",
    "            return value\n",
    "\n",
    "# Example usage\n",
    "for num in Countdown(5):\n",
    "    print(num)\n"
   ]
  },
  {
   "cell_type": "code",
   "execution_count": null,
   "id": "6a0f5f7e",
   "metadata": {},
   "outputs": [],
   "source": []
  }
 ],
 "metadata": {
  "kernelspec": {
   "display_name": "Python 3",
   "language": "python",
   "name": "python3"
  },
  "language_info": {
   "codemirror_mode": {
    "name": "ipython",
    "version": 3
   },
   "file_extension": ".py",
   "mimetype": "text/x-python",
   "name": "python",
   "nbconvert_exporter": "python",
   "pygments_lexer": "ipython3",
   "version": "3.13.1"
  }
 },
 "nbformat": 4,
 "nbformat_minor": 5
}
