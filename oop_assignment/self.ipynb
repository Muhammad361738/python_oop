{
 "cells": [
  {
   "cell_type": "markdown",
   "id": "dcaff9e9",
   "metadata": {},
   "source": [
    "#### 1. Using self\n",
    "#### Assignment:\n",
    "#### Create a class Student with attributes name and marks. Use the self keyword to initialize these values #### via a constructor. Add a method display() that prints student details.\n",
    "\n"
   ]
  },
  {
   "cell_type": "code",
   "execution_count": 2,
   "id": "11dc208b",
   "metadata": {},
   "outputs": [
    {
     "name": "stdout",
     "output_type": "stream",
     "text": [
      "The student name is Talha \n",
      " and obtained marks is 98\n"
     ]
    }
   ],
   "source": [
    "class Student :\n",
    "    def __init__(self,name,marks):\n",
    "        self.name = name \n",
    "        self.marks = marks\n",
    "    \n",
    "    def display(self):\n",
    "        print(f\"The student name is {self.name} \\n and obtained marks is {self.marks}\")\n",
    "user_name = input(\"Enter the Name \")\n",
    "user_marks = input(\"Enter the marks \")\n",
    "\n",
    "std = Student(user_name , user_marks)\n",
    "std.display()        "
   ]
  },
  {
   "cell_type": "markdown",
   "id": "8d5070e3",
   "metadata": {},
   "source": [
    "2. Using cls\n",
    "Assignment:\n",
    "Create a class Counter that keeps track of how many objects have been created. Use a class variable and a class method with cls to manage and display the count.\n",
    "\n"
   ]
  },
  {
   "cell_type": "code",
   "execution_count": 16,
   "id": "091fc1d6",
   "metadata": {},
   "outputs": [
    {
     "name": "stdout",
     "output_type": "stream",
     "text": [
      "3\n"
     ]
    }
   ],
   "source": [
    "class Counter :\n",
    "    count = 0\n",
    "    def __init__(self):\n",
    "        Counter.count +=1\n",
    "    @ classmethod\n",
    "    def display(cls):\n",
    "        print(cls.count)\n",
    "        \n",
    "s=Counter()\n",
    "u=Counter()\n",
    "b=Counter()\n",
    "\n",
    "b.display()"
   ]
  },
  {
   "cell_type": "markdown",
   "id": "dab6f868",
   "metadata": {},
   "source": [
    "#### 3. Public Variables and Methods\n",
    "#### Assignment:\n",
    "Create a class Car with a public variable brand and a public method start(). Instantiate the class and access both from outside the class.\n",
    "\n"
   ]
  },
  {
   "cell_type": "code",
   "execution_count": 19,
   "id": "f08bfa22",
   "metadata": {},
   "outputs": [
    {
     "name": "stdout",
     "output_type": "stream",
     "text": [
      "Toyota Start new model \n",
      "Toyota\n"
     ]
    }
   ],
   "source": [
    "class Car :\n",
    "    def __init__(self,brand):\n",
    "        self.brand = brand \n",
    "    def start(self):\n",
    "        print(f\"{self.brand} Start new model \")\n",
    "        \n",
    "c= Car(\"Toyota\")\n",
    "c.start()\n",
    "print(c.brand)   "
   ]
  },
  {
   "cell_type": "markdown",
   "id": "6215d54f",
   "metadata": {},
   "source": [
    "### 4. Class Variables and Class Methods\n",
    "#### Assignment:\n",
    "Create a class Bank with a class variable bank_name. Add a class method change_bank_name(cls, name) that allows changing the bank name. Show that it affects all instances.\n",
    "\n"
   ]
  },
  {
   "cell_type": "code",
   "execution_count": 29,
   "id": "65484267",
   "metadata": {},
   "outputs": [
    {
     "name": "stdout",
     "output_type": "stream",
     "text": [
      "Customer: Ali, Bank: Default Bank\n",
      "Customer: Ali, Bank: Habib\n"
     ]
    }
   ],
   "source": [
    "class Bank :\n",
    "    bank_name = \"Default Bank\"\n",
    "    def __init__(self,customer):\n",
    "        self.customer = customer\n",
    "    @classmethod\n",
    "    def change_bank(cls,name):\n",
    "        cls.bank_name = name\n",
    "    def display (self):\n",
    "        print(f\"Customer: {self.customer}, Bank: {Bank.bank_name}\")\n",
    "        \n",
    "s = Bank(\"Ali\")\n",
    "s.display()\n",
    "b = Bank(\"Ali\")\n",
    "b.change_bank(\"Habib\")\n",
    "b.display()\n",
    "        "
   ]
  },
  {
   "cell_type": "markdown",
   "id": "40ac4218",
   "metadata": {},
   "source": [
    "#### 5. Static Variables and Static Methods\n",
    "#### Assignment:\n",
    "Create a class MathUtils with a static method add(a, b) that returns the sum. No class or instance variables should be used.\n",
    "\n"
   ]
  },
  {
   "cell_type": "code",
   "execution_count": 26,
   "id": "62f066ad",
   "metadata": {},
   "outputs": [
    {
     "data": {
      "text/plain": [
       "10"
      ]
     },
     "execution_count": 26,
     "metadata": {},
     "output_type": "execute_result"
    }
   ],
   "source": [
    "class MathUtils :\n",
    "    @staticmethod\n",
    "    def add(a,b):\n",
    "        return a + b\n",
    "    \n",
    "M = MathUtils()\n",
    "M.add(5,5)"
   ]
  },
  {
   "cell_type": "code",
   "execution_count": null,
   "id": "57604080",
   "metadata": {},
   "outputs": [],
   "source": []
  }
 ],
 "metadata": {
  "kernelspec": {
   "display_name": "Python 3",
   "language": "python",
   "name": "python3"
  },
  "language_info": {
   "codemirror_mode": {
    "name": "ipython",
    "version": 3
   },
   "file_extension": ".py",
   "mimetype": "text/x-python",
   "name": "python",
   "nbconvert_exporter": "python",
   "pygments_lexer": "ipython3",
   "version": "3.13.1"
  }
 },
 "nbformat": 4,
 "nbformat_minor": 5
}
