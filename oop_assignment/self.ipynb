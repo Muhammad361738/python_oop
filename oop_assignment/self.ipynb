{
 "cells": [
  {
   "cell_type": "markdown",
   "id": "dcaff9e9",
   "metadata": {},
   "source": [
    "#### 1. Using self\n",
    "#### Assignment:\n",
    "#### Create a class Student with attributes name and marks. Use the self keyword to initialize these values #### via a constructor. Add a method display() that prints student details.\n",
    "\n"
   ]
  },
  {
   "cell_type": "code",
   "execution_count": 2,
   "id": "11dc208b",
   "metadata": {},
   "outputs": [
    {
     "name": "stdout",
     "output_type": "stream",
     "text": [
      "The student name is Talha \n",
      " and obtained marks is 98\n"
     ]
    }
   ],
   "source": [
    "class Student :\n",
    "    def __init__(self,name,marks):\n",
    "        self.name = name \n",
    "        self.marks = marks\n",
    "    \n",
    "    def display(self):\n",
    "        print(f\"The student name is {self.name} \\n and obtained marks is {self.marks}\")\n",
    "user_name = input(\"Enter the Name \")\n",
    "user_marks = input(\"Enter the marks \")\n",
    "\n",
    "std = Student(user_name , user_marks)\n",
    "std.display()        "
   ]
  },
  {
   "cell_type": "markdown",
   "id": "8d5070e3",
   "metadata": {},
   "source": [
    "2. Using cls\n",
    "Assignment:\n",
    "Create a class Counter that keeps track of how many objects have been created. Use a class variable and a class method with cls to manage and display the count.\n",
    "\n"
   ]
  },
  {
   "cell_type": "code",
   "execution_count": 16,
   "id": "091fc1d6",
   "metadata": {},
   "outputs": [
    {
     "name": "stdout",
     "output_type": "stream",
     "text": [
      "3\n"
     ]
    }
   ],
   "source": [
    "class Counter :\n",
    "    count = 0\n",
    "    def __init__(self):\n",
    "        Counter.count +=1\n",
    "    @ classmethod\n",
    "    def display(cls):\n",
    "        print(cls.count)\n",
    "        \n",
    "s=Counter()\n",
    "u=Counter()\n",
    "b=Counter()\n",
    "\n",
    "b.display()"
   ]
  },
  {
   "cell_type": "markdown",
   "id": "dab6f868",
   "metadata": {},
   "source": [
    "#### 3. Public Variables and Methods\n",
    "#### Assignment:\n",
    "Create a class Car with a public variable brand and a public method start(). Instantiate the class and access both from outside the class.\n",
    "\n"
   ]
  },
  {
   "cell_type": "code",
   "execution_count": 19,
   "id": "f08bfa22",
   "metadata": {},
   "outputs": [
    {
     "name": "stdout",
     "output_type": "stream",
     "text": [
      "Toyota Start new model \n",
      "Toyota\n"
     ]
    }
   ],
   "source": [
    "class Car :\n",
    "    def __init__(self,brand):\n",
    "        self.brand = brand \n",
    "    def start(self):\n",
    "        print(f\"{self.brand} Start new model \")\n",
    "        \n",
    "c= Car(\"Toyota\")\n",
    "c.start()\n",
    "print(c.brand)   "
   ]
  },
  {
   "cell_type": "markdown",
   "id": "6215d54f",
   "metadata": {},
   "source": [
    "### 4. Class Variables and Class Methods\n",
    "#### Assignment:\n",
    "Create a class Bank with a class variable bank_name. Add a class method change_bank_name(cls, name) that allows changing the bank name. Show that it affects all instances.\n",
    "\n"
   ]
  },
  {
   "cell_type": "code",
   "execution_count": 29,
   "id": "65484267",
   "metadata": {},
   "outputs": [
    {
     "name": "stdout",
     "output_type": "stream",
     "text": [
      "Customer: Ali, Bank: Default Bank\n",
      "Customer: Ali, Bank: Habib\n"
     ]
    }
   ],
   "source": [
    "class Bank :\n",
    "    bank_name = \"Default Bank\"\n",
    "    def __init__(self,customer):\n",
    "        self.customer = customer\n",
    "    @classmethod\n",
    "    def change_bank(cls,name):\n",
    "        cls.bank_name = name\n",
    "    def display (self):\n",
    "        print(f\"Customer: {self.customer}, Bank: {Bank.bank_name}\")\n",
    "        \n",
    "s = Bank(\"Ali\")\n",
    "s.display()\n",
    "b = Bank(\"Ali\")\n",
    "b.change_bank(\"Habib\")\n",
    "b.display()\n",
    "        "
   ]
  },
  {
   "cell_type": "markdown",
   "id": "40ac4218",
   "metadata": {},
   "source": [
    "#### 5. Static Variables and Static Methods\n",
    "#### Assignment:\n",
    "Create a class MathUtils with a static method add(a, b) that returns the sum. No class or instance variables should be used.\n",
    "\n"
   ]
  },
  {
   "cell_type": "code",
   "execution_count": 26,
   "id": "62f066ad",
   "metadata": {},
   "outputs": [
    {
     "data": {
      "text/plain": [
       "10"
      ]
     },
     "execution_count": 26,
     "metadata": {},
     "output_type": "execute_result"
    }
   ],
   "source": [
    "class MathUtils :\n",
    "    @staticmethod\n",
    "    def add(a,b):\n",
    "        return a + b\n",
    "    \n",
    "M = MathUtils()\n",
    "M.add(5,5)"
   ]
  },
  {
   "cell_type": "markdown",
   "id": "edc8dfdf",
   "metadata": {},
   "source": [
    "#### 6. Constructors and Destructors\n",
    "#### Assignment:\n",
    "Create a class Logger that prints a message when an object is created (constructor) and another message when it is destroyed (destructor).\n",
    "\n"
   ]
  },
  {
   "cell_type": "code",
   "execution_count": 34,
   "id": "57604080",
   "metadata": {},
   "outputs": [
    {
     "name": "stdout",
     "output_type": "stream",
     "text": [
      "The massage is constructor \n",
      "The massage is destruct \n"
     ]
    }
   ],
   "source": [
    "class Logger :\n",
    "    def __init__(self):\n",
    "        print(\"The massage is constructor \")\n",
    "        \n",
    "    def __del__(self):\n",
    "        print(\"The massage is destruct \")\n",
    "        \n",
    "L=Logger()\n"
   ]
  },
  {
   "cell_type": "markdown",
   "id": "26553aa1",
   "metadata": {},
   "source": [
    "#### 7. Access Modifiers: Public, Private, and Protected\n",
    "#### Assignment:\n",
    "#### Create a class Employee with:\n",
    "\n",
    "a public variable name,\n",
    "\n",
    "a protected variable _salary, and\n",
    "\n",
    "a private variable __ssn.\n",
    "\n",
    "Try accessing all three variables from an object of the class and document what happens.\n",
    "\n"
   ]
  },
  {
   "cell_type": "code",
   "execution_count": 39,
   "id": "bc90b137",
   "metadata": {},
   "outputs": [
    {
     "name": "stdout",
     "output_type": "stream",
     "text": [
      "Talha\n",
      "2000\n"
     ]
    }
   ],
   "source": [
    "class Employee :\n",
    "    def __init__(self,name ,salary,ssn): # SSN stands for Social Security Number.\n",
    "\n",
    "        self.name = name \n",
    "        self._salary = salary\n",
    "        self.__ssn = ssn\n",
    "        \n",
    "E = Employee(\"Talha\",2000,56)\n",
    "print(E.name)\n",
    "print(E._salary)\n",
    "#E.__ssn # AttributeError: 'Employee' object has no attribute '__ssn'"
   ]
  },
  {
   "cell_type": "markdown",
   "id": "5679e28d",
   "metadata": {},
   "source": [
    "### 8. The super() Function\n",
    "#### Assignment:\n",
    "Create a class Person with a constructor that sets the name. Inherit a class Teacher from it, add a subject field, and use super() to call the base class constructor.\n",
    "\n"
   ]
  },
  {
   "cell_type": "code",
   "execution_count": 40,
   "id": "a92f4dd9",
   "metadata": {},
   "outputs": [
    {
     "name": "stdout",
     "output_type": "stream",
     "text": [
      "Name : Talha\n",
      " Subject :Math\n"
     ]
    }
   ],
   "source": [
    "class Person:\n",
    "    def __init__(self, name:str ):\n",
    "        self.name =name\n",
    "\n",
    "class Teacher(Person):\n",
    "    def __init__(self, name,subject):\n",
    "        self.subject = subject\n",
    "        super().__init__(name)\n",
    "    def display(self):\n",
    "        print(f\"Name : {self.name}\\n Subject :{self.subject}\")\n",
    "        \n",
    "P = Person(\"Talha\")\n",
    "T= Teacher(\"Talha\",\"Math\")\n",
    "T.display()"
   ]
  },
  {
   "cell_type": "markdown",
   "id": "111541e9",
   "metadata": {},
   "source": [
    "#### 9. Abstract Classes and Methods\n",
    "#### Assignment:\n",
    "Use the abc module to create an abstract class Shape with an abstract method area(). Inherit a class Rectangle that implements area().\n",
    "\n"
   ]
  },
  {
   "cell_type": "code",
   "execution_count": 46,
   "id": "b87af826",
   "metadata": {},
   "outputs": [
    {
     "name": "stdout",
     "output_type": "stream",
     "text": [
      "Area of reactangle : 25\n"
     ]
    }
   ],
   "source": [
    "from abc import ABC , abstractmethod\n",
    "\n",
    "class Shape(ABC):\n",
    "    @abstractmethod\n",
    "    def area(self):\n",
    "        pass \n",
    "    \n",
    "    \n",
    "# create a suv class \n",
    "\n",
    "class Rectangule (Shape):\n",
    "    def __init__(self,length,width):\n",
    "        self.length = length\n",
    "        self.width = width\n",
    "        \n",
    "    def area(self):\n",
    "        return self.length * self.width\n",
    "R = Rectangule(5,5)\n",
    "print(f\"Area of reactangle : {R.area()}\")\n",
    "\n",
    "## ❗ You cannot create an object of Shape directly. It’s only meant to be subclassed.\n",
    "\n"
   ]
  },
  {
   "cell_type": "markdown",
   "id": "6472bebb",
   "metadata": {},
   "source": [
    "### 10. Instance Methods\n",
    "### Assignment:\n",
    "Create a class Dog with instance variables name and breed. Add an instance method bark() that prints a message including the dog's name.\n",
    "\n"
   ]
  },
  {
   "cell_type": "code",
   "execution_count": 47,
   "id": "28a7ff55",
   "metadata": {},
   "outputs": [
    {
     "name": "stdout",
     "output_type": "stream",
     "text": [
      "Buddy says woofs ! I am a Golden Retriever\n"
     ]
    }
   ],
   "source": [
    "class Dog:\n",
    "    def __init__(self, name,breed):\n",
    "        self.name = name \n",
    "        self.breed = breed\n",
    "        \n",
    "    def bark(self):\n",
    "        print(f\"{self.name} says woofs ! I am a {self.breed}\")\n",
    "        \n",
    "d = Dog(\"Buddy\", \"Golden Retriever\")\n",
    "d.bark()\n"
   ]
  },
  {
   "cell_type": "code",
   "execution_count": null,
   "id": "7f0ecccb",
   "metadata": {},
   "outputs": [],
   "source": []
  }
 ],
 "metadata": {
  "kernelspec": {
   "display_name": "Python 3",
   "language": "python",
   "name": "python3"
  },
  "language_info": {
   "codemirror_mode": {
    "name": "ipython",
    "version": 3
   },
   "file_extension": ".py",
   "mimetype": "text/x-python",
   "name": "python",
   "nbconvert_exporter": "python",
   "pygments_lexer": "ipython3",
   "version": "3.13.1"
  }
 },
 "nbformat": 4,
 "nbformat_minor": 5
}
